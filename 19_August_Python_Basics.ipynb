{
 "cells": [
  {
   "cell_type": "code",
   "execution_count": 1,
   "id": "4a1b789c-1927-4690-a6f1-0c79a02ecb0f",
   "metadata": {},
   "outputs": [],
   "source": [
    "# Q1: Declare two variables \"x\" and \"y\" and assign them integer values. Swap the values of these variables without using any temprory variables."
   ]
  },
  {
   "cell_type": "code",
   "execution_count": 2,
   "id": "30d735fa-0d24-421a-aa0b-078d281d71ee",
   "metadata": {},
   "outputs": [],
   "source": [
    "# Step 1 : Declare variables\n",
    "x=15\n",
    "y=10"
   ]
  },
  {
   "cell_type": "code",
   "execution_count": 3,
   "id": "0a0dab2d-8115-425a-8aba-87d405132553",
   "metadata": {},
   "outputs": [],
   "source": [
    "# Step 2 : Creating function to swap variables\n",
    "def swap_variables (x,y):\n",
    "    print(f'Before swap x:{x} and y:{y}')\n",
    "    x,y=y,x\n",
    "    print(f'After swap x:{x} and y:{y}')"
   ]
  },
  {
   "cell_type": "code",
   "execution_count": 4,
   "id": "d893d1a7-910f-43ea-bafb-163747162550",
   "metadata": {},
   "outputs": [
    {
     "name": "stdout",
     "output_type": "stream",
     "text": [
      "Before swap x:15 and y:10\n",
      "After swap x:10 and y:15\n"
     ]
    }
   ],
   "source": [
    "swap_variables(x,y)"
   ]
  },
  {
   "cell_type": "code",
   "execution_count": 5,
   "id": "cd59bc0a-e3f9-4b2a-96ba-d996844db3d2",
   "metadata": {},
   "outputs": [],
   "source": [
    "# Q2: Create a program that calculate the area of rectangle. Take the length and width as input from the user and store them in the variable. \n",
    "# Calculate and display the area.'''"
   ]
  },
  {
   "cell_type": "code",
   "execution_count": 7,
   "id": "25abe0e9-5bb1-4f15-8c50-98172d6f95b6",
   "metadata": {},
   "outputs": [
    {
     "name": "stdin",
     "output_type": "stream",
     "text": [
      "length of rectangle:  19\n",
      " width of rectangle:  20\n"
     ]
    }
   ],
   "source": [
    "# Step 1: Get input from user\n",
    "length= float(input(\"length of rectangle: \"))\n",
    "width = float(input(\" width of rectangle: \"))"
   ]
  },
  {
   "cell_type": "code",
   "execution_count": 8,
   "id": "baa03603-eb9a-44e7-a17e-e3077df549e4",
   "metadata": {},
   "outputs": [],
   "source": [
    "# Step 2: area of rectangle\n",
    "area = length*width"
   ]
  },
  {
   "cell_type": "code",
   "execution_count": 9,
   "id": "3458367d-3619-4a86-92b9-bc8ffe6f6aa9",
   "metadata": {},
   "outputs": [
    {
     "name": "stdout",
     "output_type": "stream",
     "text": [
      "The area of rectangle 380.0\n"
     ]
    }
   ],
   "source": [
    "# Step 3: Display the area\n",
    "print(\"The area of rectangle\", area)"
   ]
  },
  {
   "cell_type": "code",
   "execution_count": 10,
   "id": "0be98437-12b9-4754-a555-4701bf0e90b3",
   "metadata": {},
   "outputs": [],
   "source": [
    "# Q3: Write a Python program that converts temp from Celsius to Fahreneit. \n",
    "# Take the temp in celsius as input store it in a variable convert it to Fahreneit and display the result."
   ]
  },
  {
   "cell_type": "code",
   "execution_count": 11,
   "id": "d5ffdc16-55c9-42a8-b4b6-08d786fcda64",
   "metadata": {},
   "outputs": [
    {
     "name": "stdin",
     "output_type": "stream",
     "text": [
      "Temp in celsius:  19\n"
     ]
    }
   ],
   "source": [
    "# Step 1: Get the temp in celsius from the user\n",
    "celsius_temp = float(input(\"Temp in celsius: \"))"
   ]
  },
  {
   "cell_type": "code",
   "execution_count": 12,
   "id": "178ca386-849c-47da-a5df-da553cf7b1a7",
   "metadata": {},
   "outputs": [],
   "source": [
    "# Step 2: Convert Celsius to Fahreneit by using formula\n",
    "fahreneit_temp = (celsius_temp*1.8)+32"
   ]
  },
  {
   "cell_type": "code",
   "execution_count": 13,
   "id": "555188a2-dd3b-483a-89be-6889dd9f58e7",
   "metadata": {},
   "outputs": [
    {
     "name": "stdout",
     "output_type": "stream",
     "text": [
      "19.0 celsius is equal to 66.20 Fahreneit\n"
     ]
    }
   ],
   "source": [
    "# Step 3: Display the converted temp\n",
    "print(f\"{celsius_temp} celsius is equal to {fahreneit_temp:.2F} Fahreneit\")"
   ]
  },
  {
   "cell_type": "code",
   "execution_count": 14,
   "id": "cb88c81c-36ad-4bfd-92cf-6d5982203065",
   "metadata": {},
   "outputs": [],
   "source": [
    "                                                         #String based questions"
   ]
  },
  {
   "cell_type": "code",
   "execution_count": 15,
   "id": "ae4f8626-5494-40a3-8e5e-6a1c7b2571d4",
   "metadata": {},
   "outputs": [],
   "source": [
    "# Q1 : Write a program that takes a string as input and prints the length of the string."
   ]
  },
  {
   "cell_type": "code",
   "execution_count": 20,
   "id": "4b66181d-0144-471c-b783-a44fd87f68ba",
   "metadata": {},
   "outputs": [
    {
     "name": "stdin",
     "output_type": "stream",
     "text": [
      " Enter the string:  Shivam\n"
     ]
    }
   ],
   "source": [
    "# Step 1: Get the input from user\n",
    "input_string = input(\" Enter the string: \")"
   ]
  },
  {
   "cell_type": "code",
   "execution_count": 21,
   "id": "db7305e3-6ae3-4372-bbd8-60e26a197a6d",
   "metadata": {},
   "outputs": [],
   "source": [
    "# Step 2: Calculate the length of the string input using fuction\n",
    "string_length = len(input_string)"
   ]
  },
  {
   "cell_type": "code",
   "execution_count": 27,
   "id": "db9c1620-64ee-4b99-b1ea-94efb56dbc53",
   "metadata": {},
   "outputs": [
    {
     "name": "stdout",
     "output_type": "stream",
     "text": [
      "The length of the input string is: 6\n"
     ]
    }
   ],
   "source": [
    "# Step 3: Print the length of the string\n",
    "print(\"The length of the input string is:\", string_length)"
   ]
  },
  {
   "cell_type": "code",
   "execution_count": 25,
   "id": "68fc29a1-b735-46e4-8d45-9870ba122e10",
   "metadata": {},
   "outputs": [],
   "source": [
    "# Q2 : Create a program that take a sentence from the user and counts the no of vowels (a,e,i,o,u) in the string."
   ]
  },
  {
   "cell_type": "code",
   "execution_count": 26,
   "id": "36c171fc-00d3-4270-9672-40eb739a9536",
   "metadata": {},
   "outputs": [
    {
     "name": "stdin",
     "output_type": "stream",
     "text": [
      " Enter the sentence:  hello world how are you\n"
     ]
    }
   ],
   "source": [
    "# Step 1: Get the input from the user\n",
    "input_sentence = input(\" Enter the sentence: \")"
   ]
  },
  {
   "cell_type": "code",
   "execution_count": 28,
   "id": "a0d0c339-e821-424f-b2ac-b397cf523f16",
   "metadata": {},
   "outputs": [],
   "source": [
    "# Step 2: Initilaize the variable to count the vowels\n",
    "vowel_count = 0"
   ]
  },
  {
   "cell_type": "code",
   "execution_count": 53,
   "id": "c84cf594-f191-48ae-a3c0-264f08e8e592",
   "metadata": {},
   "outputs": [],
   "source": [
    "# Step 3: Covert the character in lower case\n",
    "for char in input_sentence:\n",
    "    char_lower= char.lower()"
   ]
  },
  {
   "cell_type": "code",
   "execution_count": 70,
   "id": "cc78d0b8-2ff0-4bfb-9d70-2f2d2fc17609",
   "metadata": {},
   "outputs": [],
   "source": [
    "# Step 4: Check if character is vowel\n",
    "if char_lower in \"aeiou\":\n",
    "        vowel_count +=1"
   ]
  },
  {
   "cell_type": "code",
   "execution_count": 71,
   "id": "706ae9fc-6c51-47a6-899c-3faece2898c8",
   "metadata": {},
   "outputs": [
    {
     "name": "stdout",
     "output_type": "stream",
     "text": [
      " Number of vowels: 7\n"
     ]
    }
   ],
   "source": [
    "# Step 5: Print no of vowels in input sentence\n",
    "print(\" Number of vowels:\" , vowel_count)"
   ]
  },
  {
   "cell_type": "code",
   "execution_count": 72,
   "id": "08a9edda-6b98-46de-807c-e7544b0ff093",
   "metadata": {},
   "outputs": [],
   "source": [
    "# Q3: Given a string, reverse the order of char using string slicing and print the reversed string."
   ]
  },
  {
   "cell_type": "code",
   "execution_count": 73,
   "id": "4ca1a63e-3687-453f-a804-c2e15cd42ec3",
   "metadata": {},
   "outputs": [
    {
     "name": "stdin",
     "output_type": "stream",
     "text": [
      " Enter the input: Shivam\n"
     ]
    }
   ],
   "source": [
    "# Step 1: Get the input from the user\n",
    "input_string = input(' Enter the input:')"
   ]
  },
  {
   "cell_type": "code",
   "execution_count": 74,
   "id": "1f2c9616-c114-4d28-b26c-ebbe72d6d00e",
   "metadata": {},
   "outputs": [],
   "source": [
    "# Step 2: use string slicing to reversed the string\n",
    "reversed_string= input_string[::-1]"
   ]
  },
  {
   "cell_type": "code",
   "execution_count": 75,
   "id": "47346d9d-d62b-4be5-9aa5-e75afe045bd3",
   "metadata": {},
   "outputs": [
    {
     "name": "stdout",
     "output_type": "stream",
     "text": [
      "Reversed String: mavihS\n"
     ]
    }
   ],
   "source": [
    "# Step 3: Print the reversed string\n",
    "print('Reversed String:', reversed_string)"
   ]
  },
  {
   "cell_type": "code",
   "execution_count": 16,
   "id": "17053ac7-cee7-4756-a585-7dbaba573a35",
   "metadata": {},
   "outputs": [],
   "source": [
    "# Q4 : Write a program that takes string as input and checks if it is a palindrone"
   ]
  },
  {
   "cell_type": "code",
   "execution_count": 17,
   "id": "18aec612-4ccc-464d-a53c-c27f24ecf7b1",
   "metadata": {},
   "outputs": [
    {
     "name": "stdin",
     "output_type": "stream",
     "text": [
      " Enter the string: hello\n"
     ]
    }
   ],
   "source": [
    "# Step 1: Get the input from the user\n",
    "input_string = input(' Enter the string:')"
   ]
  },
  {
   "cell_type": "code",
   "execution_count": 26,
   "id": "905488e3-ae1d-4edd-9564-44e530ae20f1",
   "metadata": {},
   "outputs": [],
   "source": [
    "# Step 2: Convert the input string in lower case\n",
    "cleaned_string = input_string.replace(\" \",\"\").lower()"
   ]
  },
  {
   "cell_type": "code",
   "execution_count": 27,
   "id": "7669db7f-905a-4ef5-bbd0-2ed233a40ff8",
   "metadata": {},
   "outputs": [],
   "source": [
    "# Step 3: Reversed the string using slicing function\n",
    "reversed_string = cleaned_string[::-1]"
   ]
  },
  {
   "cell_type": "code",
   "execution_count": 28,
   "id": "f3ef5b33-67e0-488a-a201-813556aa76d6",
   "metadata": {},
   "outputs": [
    {
     "name": "stdout",
     "output_type": "stream",
     "text": [
      "The input string is not palindrone.\n"
     ]
    }
   ],
   "source": [
    "# Step 4: Coampared the string\n",
    "if cleaned_string == reversed_string:\n",
    "    print('The input string is palindrone.')\n",
    "else:\n",
    "    print('The input string is not palindrone.')\n"
   ]
  },
  {
   "cell_type": "code",
   "execution_count": null,
   "id": "bfbf66ef-e669-497e-a9f0-91998bb34533",
   "metadata": {},
   "outputs": [],
   "source": []
  }
 ],
 "metadata": {
  "kernelspec": {
   "display_name": "Python 3 (ipykernel)",
   "language": "python",
   "name": "python3"
  },
  "language_info": {
   "codemirror_mode": {
    "name": "ipython",
    "version": 3
   },
   "file_extension": ".py",
   "mimetype": "text/x-python",
   "name": "python",
   "nbconvert_exporter": "python",
   "pygments_lexer": "ipython3",
   "version": "3.10.8"
  }
 },
 "nbformat": 4,
 "nbformat_minor": 5
}
